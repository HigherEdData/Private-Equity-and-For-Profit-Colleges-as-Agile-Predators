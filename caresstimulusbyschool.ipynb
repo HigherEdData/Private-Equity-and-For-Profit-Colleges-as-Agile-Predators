{
 "cells": [
  {
   "cell_type": "markdown",
   "metadata": {},
   "source": [
    "## CARES act stimulus by ownership form\n",
    "\n",
    "By Charlie Eaton, April 2, 2020"
   ]
  },
  {
   "cell_type": "code",
   "execution_count": 44,
   "metadata": {},
   "outputs": [],
   "source": [
    "quietly {\n",
    "cd \"/Users/Charlie/Desktop\"\n",
    "import excel using ///\n",
    "\"3_30_20---resort_03-24-20_estimated_higher_ed_fund_distribution_620pm.xlsx\" ///\n",
    ", sheet(\"Insts no fully online\") firstrow case(lower) clear\n",
    "drop if opeid==.\n",
    "tostring opeid, gen(opeidstring)\n",
    "replace opeidstring=\"0\"+opeidstring if strlen(opeidstring)==6\n",
    "replace opeidstring=\"0\"+opeidstring if strlen(opeidstring)==7\n",
    "replace opeidstring=substr(opeidstring,1,6)\n",
    "destring opeidstring, gen(opeid6)\n",
    "encode schooltype, gen(schooltype_n)\n",
    "keep if schooltype_n==2\n",
    "*ds, varwidth(28)\n",
    "*summarize\n",
    "save stimulusbyschoolandfirm, replace\n",
    "}"
   ]
  },
  {
   "cell_type": "code",
   "execution_count": 55,
   "metadata": {},
   "outputs": [
    {
     "name": "stdout",
     "output_type": "stream",
     "text": [
      "\n",
      "\n",
      ". merge 1:1 opeid6 using stimulusbyschoolandfirm, gen(owner_stimulus_merge) keep\n",
      "> (2 3)\n",
      "\n",
      "    Result                           # of obs.\n",
      "    -----------------------------------------\n",
      "    not matched                           125\n",
      "        from master                         0  (owner_stimulus_merge==1)\n",
      "        from using                        125  (owner_stimulus_merge==2)\n",
      "\n",
      "    matched                             1,688  (owner_stimulus_merge==3)\n",
      "    -----------------------------------------\n"
     ]
    }
   ],
   "source": [
    "quietly {\n",
    "use \"/Users/Charlie/Dropbox/Asymmetry by Design/Data/d_OPEID_Asymmetry.dta\", clear\n",
    "bysort opeid: egen maxyear=max(year)\n",
    "keep if maxyear==year\n",
    "rename year ownershipyear\n",
    "rename opeid opeid6\n",
    "rename opeidstring opeidstringeaton\n",
    "collapse (first) opeidstringeaton pe_ind public control_n iclevel institutionname ///\n",
    "ownershipyear systemid systemnm (sum) claimcount, by(opeid6)\n",
    "}\n",
    "merge 1:1 opeid6 using stimulusbyschoolandfirm, gen(owner_stimulus_merge) keep(2 3)"
   ]
  },
  {
   "cell_type": "code",
   "execution_count": 56,
   "metadata": {},
   "outputs": [],
   "source": [
    "quietly gen ownership=\"other\"\n",
    "quietly replace ownership=\"private equity\" if pe_ind==1\n",
    "quietly replace ownership=\"publicly traded\" if public==1"
   ]
  },
  {
   "cell_type": "code",
   "execution_count": 72,
   "metadata": {},
   "outputs": [],
   "source": [
    "format totaldollarsremovingonlineo pelldollarsremovingonlineon %12.0fc\n",
    "quietly replace systemnm = institutionname if systemnm==\"\""
   ]
  },
  {
   "cell_type": "code",
   "execution_count": 58,
   "metadata": {},
   "outputs": [
    {
     "name": "stdout",
     "output_type": "stream",
     "text": [
      "\n",
      "\n",
      "------------------------------\n",
      "      ownership | sum(total~o)\n",
      "----------------+-------------\n",
      "          other |  619,743,048\n",
      " private equity |  263,362,315\n",
      "publicly traded |  185,934,013\n",
      "------------------------------\n",
      "\n",
      "\n",
      "------------------------------\n",
      "      ownership | sum(pelld~n)\n",
      "----------------+-------------\n",
      "          other |  555,595,239\n",
      " private equity |  238,216,536\n",
      "publicly traded |  163,131,542\n",
      "------------------------------\n"
     ]
    }
   ],
   "source": [
    "table ownership, c(sum totaldollarsremovingonlineo) format(%12.0fc)\n",
    "table ownership, c(sum pelldollarsremovingonlineon) format(%12.0fc)"
   ]
  },
  {
   "cell_type": "code",
   "execution_count": 59,
   "metadata": {},
   "outputs": [],
   "source": [
    "collapse (first) opeidstringeaton pe_ind public ownership control_n iclevel institutionname ///\n",
    "ownershipyear systemnm (sum) claimcount totaldollarsremovingonlineo pelldollarsremovingonlineon ///\n",
    ", by(systemid)"
   ]
  },
  {
   "cell_type": "code",
   "execution_count": 60,
   "metadata": {},
   "outputs": [],
   "source": [
    "gsort -totaldollarsremovingonlineo"
   ]
  },
  {
   "cell_type": "code",
   "execution_count": 73,
   "metadata": {},
   "outputs": [
    {
     "name": "stdout",
     "output_type": "stream",
     "text": [
      "\n",
      "\n",
      "\n",
      "      +-----------------------------------------------------------------------------------------+\n",
      "      |                           systemnm         ownership   pe_ind   totaldol~o   pelldoll~n |\n",
      "      |-----------------------------------------------------------------------------------------|\n",
      "   1. |                               EDMC   publicly traded        1   46,953,584   41,551,650 |\n",
      "   2. |                         EduK Group    private equity        1   37,585,485   35,179,515 |\n",
      "   3. | Education Affiliates / Marco Group    private equity        1   33,450,480   28,956,690 |\n",
      "   4. |      Universal Technical Institute   publicly traded        1   27,064,170   23,330,160 |\n",
      "   5. |                            Lincoln   publicly traded        1   24,656,940   22,572,270 |\n",
      "      |-----------------------------------------------------------------------------------------|\n",
      "   6. |                        DeVry, Inc.   publicly traded        1   24,266,655   20,876,940 |\n",
      "   7. |                                                other        0   22,352,148   19,686,996 |\n",
      "   8. |             Empire Education Group   publicly traded        1   18,926,428   18,040,428 |\n",
      "   9. |             Pima Medical Institute             other        0   18,529,560   15,391,215 |\n",
      "  10. |     Concorde Career Colleges, Inc.    private equity        1   18,013,240   17,594,955 |\n",
      "      +-----------------------------------------------------------------------------------------+\n"
     ]
    }
   ],
   "source": [
    "set linesize 200\n",
    "list systemnm ownership pe_ind totaldollarsremovingonlineo pelldollarsremovingonlineon if _n<11"
   ]
  },
  {
   "cell_type": "code",
   "execution_count": null,
   "metadata": {},
   "outputs": [],
   "source": []
  }
 ],
 "metadata": {
  "kernelspec": {
   "display_name": "Stata",
   "language": "stata",
   "name": "stata"
  },
  "language_info": {
   "codemirror_mode": "stata",
   "file_extension": ".do",
   "mimetype": "text/x-stata",
   "name": "stata",
   "version": "15.1"
  }
 },
 "nbformat": 4,
 "nbformat_minor": 4
}
