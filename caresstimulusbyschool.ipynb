{
 "cells": [
  {
   "cell_type": "markdown",
   "metadata": {},
   "source": [
    "## CARES act college stimulus by ownership form\n",
    "\n",
    "By Charlie Eaton, April 2, 2020\n",
    "\n",
    "Note: Ownership data is ownership as of 2017 and may have shifted since then. Publicly traded firms may have a private equity investment indicator of \"1\" if there is no publicly available information about private equity exits from the investment."
   ]
  },
  {
   "cell_type": "code",
   "execution_count": null,
   "metadata": {},
   "outputs": [],
   "source": [
    "quietly {\n",
    "cd \"/Users/Charlie/Desktop\"\n",
    "import excel using ///\n",
    "\"3_30_20---resort_03-24-20_estimated_higher_ed_fund_distribution_620pm.xlsx\" ///\n",
    ", sheet(\"Insts no fully online\") firstrow case(lower) clear\n",
    "drop if opeid==.\n",
    "tostring opeid, gen(opeidstring)\n",
    "replace opeidstring=\"0\"+opeidstring if strlen(opeidstring)==6\n",
    "replace opeidstring=\"0\"+opeidstring if strlen(opeidstring)==7\n",
    "replace opeidstring=substr(opeidstring,1,6)\n",
    "destring opeidstring, gen(opeid6)\n",
    "encode schooltype, gen(schooltype_n)\n",
    "keep if schooltype_n==2\n",
    "*ds, varwidth(28)\n",
    "*summarize\n",
    "save stimulusbyschoolandfirm, replace\n",
    "}"
   ]
  },
  {
   "cell_type": "code",
   "execution_count": null,
   "metadata": {},
   "outputs": [],
   "source": [
    "quietly {\n",
    "use \"/Users/Charlie/Dropbox/Asymmetry by Design/Data/d_OPEID_Asymmetry.dta\", clear\n",
    "bysort opeid: egen maxyear=max(year)\n",
    "keep if maxyear==year\n",
    "rename year ownershipyear\n",
    "rename opeid opeid6\n",
    "rename opeidstring opeidstringeaton\n",
    "collapse (first) opeidstringeaton pe_ind public control_n iclevel institutionname ///\n",
    "ownershipyear systemid systemnm (sum) claimcount, by(opeid6)\n",
    "}\n",
    "merge 1:1 opeid6 using stimulusbyschoolandfirm, gen(owner_stimulus_merge) keep(2 3)"
   ]
  },
  {
   "cell_type": "code",
   "execution_count": null,
   "metadata": {},
   "outputs": [],
   "source": [
    "quietly gen ownership=\"other\"\n",
    "quietly replace ownership=\"private equity\" if pe_ind==1\n",
    "quietly replace ownership=\"publicly traded\" if public==1"
   ]
  },
  {
   "cell_type": "code",
   "execution_count": null,
   "metadata": {},
   "outputs": [],
   "source": [
    "format totaldollarsremovingonlineo pelldollarsremovingonlineon %12.0fc\n",
    "quietly replace systemnm = institutionname if systemnm==\"\"\n",
    "quietly outsheet using collegestimulusschoolowner.csv, comma"
   ]
  },
  {
   "cell_type": "code",
   "execution_count": null,
   "metadata": {},
   "outputs": [],
   "source": [
    "table ownership, c(sum totaldollarsremovingonlineo) format(%12.0fc)\n",
    "table ownership, c(sum pelldollarsremovingonlineon) format(%12.0fc)"
   ]
  },
  {
   "cell_type": "code",
   "execution_count": null,
   "metadata": {},
   "outputs": [],
   "source": [
    "collapse (first) opeidstringeaton pe_ind public ownership control_n iclevel institutionname ///\n",
    "ownershipyear systemnm (sum) claimcount totaldollarsremovingonlineo pelldollarsremovingonlineon ///\n",
    ", by(systemid)\n",
    "replace systemnm=\"Paul Mitchell franchises\" if systemid==454944"
   ]
  },
  {
   "cell_type": "code",
   "execution_count": null,
   "metadata": {},
   "outputs": [],
   "source": [
    "gsort -totaldollarsremovingonlineo\n",
    "quietly outsheet using collegestimulusfirmowner.csv, comma"
   ]
  },
  {
   "cell_type": "code",
   "execution_count": null,
   "metadata": {},
   "outputs": [],
   "source": [
    "quietly set linesize 200\n",
    "list systemid systemnm ownership pe_ind totaldollarsremovingonlineo pelldollarsremovingonlineon if _n<11"
   ]
  },
  {
   "cell_type": "code",
   "execution_count": null,
   "metadata": {},
   "outputs": [],
   "source": []
  }
 ],
 "metadata": {
  "kernelspec": {
   "display_name": "Stata",
   "language": "stata",
   "name": "stata"
  },
  "language_info": {
   "codemirror_mode": "stata",
   "file_extension": ".do",
   "mimetype": "text/x-stata",
   "name": "stata",
   "version": "15.1"
  }
 },
 "nbformat": 4,
 "nbformat_minor": 4
}
