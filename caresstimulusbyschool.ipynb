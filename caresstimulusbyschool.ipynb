{
 "cells": [
  {
   "cell_type": "markdown",
   "metadata": {},
   "source": [
    "## CARES act college stimulus by ownership form\n",
    "\n",
    "By Charlie Eaton, April 2, 2020\n",
    "\n",
    "Note: Ownership data is ownership as of 2017 and may have shifted since then. Publicly traded firms may have a private equity investment indicator of \"1\" if there is no publicly available information about private equity exits from the investment."
   ]
  },
  {
   "cell_type": "code",
   "execution_count": 1,
   "metadata": {},
   "outputs": [],
   "source": [
    "quietly {\n",
    "cd \"/Users/Charlie/Desktop\"\n",
    "import excel using ///\n",
    "\"3_30_20---resort_03-24-20_estimated_higher_ed_fund_distribution_620pm.xlsx\" ///\n",
    ", sheet(\"Insts no fully online\") firstrow case(lower) clear\n",
    "drop if opeid==.\n",
    "tostring opeid, gen(opeidstring)\n",
    "replace opeidstring=\"0\"+opeidstring if strlen(opeidstring)==6\n",
    "replace opeidstring=\"0\"+opeidstring if strlen(opeidstring)==7\n",
    "replace opeidstring=substr(opeidstring,1,6)\n",
    "destring opeidstring, gen(opeid6)\n",
    "encode schooltype, gen(schooltype_n)\n",
    "keep if schooltype_n==2\n",
    "*ds, varwidth(28)\n",
    "*summarize\n",
    "save stimulusbyschoolandfirm, replace\n",
    "}"
   ]
  },
  {
   "cell_type": "code",
   "execution_count": 2,
   "metadata": {},
   "outputs": [
    {
     "name": "stdout",
     "output_type": "stream",
     "text": [
      "\n",
      "\n",
      ". merge 1:1 opeid6 using stimulusbyschoolandfirm, gen(owner_stimulus_merge) keep\n",
      "> (2 3)\n",
      "\n",
      "    Result                           # of obs.\n",
      "    -----------------------------------------\n",
      "    not matched                           125\n",
      "        from master                         0  (owner_stimulus_merge==1)\n",
      "        from using                        125  (owner_stimulus_merge==2)\n",
      "\n",
      "    matched                             1,688  (owner_stimulus_merge==3)\n",
      "    -----------------------------------------\n"
     ]
    }
   ],
   "source": [
    "quietly {\n",
    "use \"/Users/Charlie/Dropbox/Asymmetry by Design/Data/d_OPEID_Asymmetry.dta\", clear\n",
    "bysort opeid: egen maxyear=max(year)\n",
    "bysort opeid: egen legalaction=max(law_enf_frst_this_yr) \n",
    "keep if maxyear==year\n",
    "rename year ownershipyear\n",
    "rename opeid opeid6\n",
    "rename opeidstring opeidstringeaton\n",
    "collapse (first) opeidstringeaton pe_ind public control_n iclevel institutionname ///\n",
    "ownershipyear systemid systemnm (rawsum) legalaction claimcount, by(opeid6)\n",
    "}\n",
    "merge 1:1 opeid6 using stimulusbyschoolandfirm, gen(owner_stimulus_merge) keep(2 3)"
   ]
  },
  {
   "cell_type": "code",
   "execution_count": 3,
   "metadata": {},
   "outputs": [
    {
     "name": "stdout",
     "output_type": "stream",
     "text": [
      "\n",
      "\n",
      "(29 real changes made)\n",
      "\n",
      "\n",
      "(24 real changes made)\n",
      "\n",
      "\n",
      "\n"
     ]
    }
   ],
   "source": [
    "gen failgainful=0\n",
    "replace failgainful=1 if regexm(gainfulemploymentrulefailed, \"ail\")==1\n",
    "gen cashmonitor=0\n",
    "replace cashmonitor=1 if regexm(hcm_dec_2019, \"es\")==1\n",
    "quietly gen ownership=\"other\"\n",
    "quietly replace ownership=\"private equity\" if pe_ind==1\n",
    "quietly replace ownership=\"publicly traded\" if public==1"
   ]
  },
  {
   "cell_type": "code",
   "execution_count": 4,
   "metadata": {},
   "outputs": [],
   "source": [
    "format totaldollarsremovingonlineo pelldollarsremovingonlineon %12.0fc\n",
    "quietly replace systemnm = institutionname if systemnm==\"\"\n",
    "quietly outsheet using collegestimulusschoolowner.csv, comma replace"
   ]
  },
  {
   "cell_type": "code",
   "execution_count": 5,
   "metadata": {},
   "outputs": [
    {
     "name": "stdout",
     "output_type": "stream",
     "text": [
      "\n",
      "\n",
      "------------------------------\n",
      "      ownership | sum(total~o)\n",
      "----------------+-------------\n",
      "          other |  619,743,048\n",
      " private equity |  263,362,315\n",
      "publicly traded |  185,934,013\n",
      "------------------------------\n",
      "\n",
      "\n",
      "------------------------------\n",
      "      ownership | sum(pelld~n)\n",
      "----------------+-------------\n",
      "          other |  555,595,239\n",
      " private equity |  238,216,536\n",
      "publicly traded |  163,131,542\n",
      "------------------------------\n"
     ]
    }
   ],
   "source": [
    "table ownership, c(sum totaldollarsremovingonlineo) format(%12.0fc)\n",
    "table ownership, c(sum pelldollarsremovingonlineon) format(%12.0fc)"
   ]
  },
  {
   "cell_type": "code",
   "execution_count": 6,
   "metadata": {},
   "outputs": [
    {
     "name": "stdout",
     "output_type": "stream",
     "text": [
      "\n",
      "\n",
      "(1 real change made)\n",
      "\n",
      "(1 real change made)\n",
      "\n",
      "(1 real change made)\n",
      "\n"
     ]
    }
   ],
   "source": [
    "collapse (first) opeidstringeaton pe_ind public ownership control_n iclevel institutionname ///\n",
    "ownershipyear systemnm (sum) legalaction failgainful cashmonitor claimcount totaldollarsremovingonlineo pelldollarsremovingonlineon ///\n",
    ", by(systemid)\n",
    "replace systemnm=\"Paul Mitchell franchises\" if systemid==454944\n",
    "replace systemnm=\"Education Affiliates\" if systemid==373784\n",
    "replace systemnm=\"Concorde Career Colleges\" if systemid==120661\n",
    "rename pe_ind pe"
   ]
  },
  {
   "cell_type": "code",
   "execution_count": 7,
   "metadata": {},
   "outputs": [],
   "source": [
    "gsort -totaldollarsremovingonlineo\n",
    "quietly outsheet using collegestimulusfirmowner.csv, comma replace"
   ]
  },
  {
   "cell_type": "code",
   "execution_count": 8,
   "metadata": {},
   "outputs": [],
   "source": [
    "quietly set linesize 200\n",
    "rename claimcount borrowerdefense"
   ]
  },
  {
   "cell_type": "code",
   "execution_count": 9,
   "metadata": {},
   "outputs": [
    {
     "name": "stdout",
     "output_type": "stream",
     "text": [
      "\n",
      "(9 real changes made)\n",
      "\n",
      "\n",
      "      +------------------------------------------------------------------------------+\n",
      "      | systemid                        systemnm         ownership   pe   totaldol~o |\n",
      "      |------------------------------------------------------------------------------|\n",
      "   1. |   101116                            EDMC   publicly traded    1   46,953,584 |\n",
      "   2. |   242981                      EduK Group    private equity    1   37,585,485 |\n",
      "   3. |   373784            Education Affiliates    private equity    1   33,450,480 |\n",
      "   4. |   105215   Universal Technical Institute   publicly traded    1   27,064,170 |\n",
      "   5. |   151661                         Lincoln   publicly traded    1   24,656,940 |\n",
      "      |------------------------------------------------------------------------------|\n",
      "   6. |   104531                     DeVry, Inc.   publicly traded    1   24,266,655 |\n",
      "   7. |   454944        Paul Mitchell franchises             other    0   22,352,148 |\n",
      "   8. |   212212          Empire Education Group   publicly traded    1   18,926,428 |\n",
      "   9. |   105534          Pima Medical Institute             other    0   18,529,560 |\n",
      "  10. |   120661        Concorde Career Colleges    private equity    1   18,013,240 |\n",
      "      +------------------------------------------------------------------------------+\n",
      "\n",
      "\n",
      "      +--------------------------------------------------------------------------------------+\n",
      "      | systemid                        systemnm   borrow~e   legala~n   failga~l   cashmo~r |\n",
      "      |--------------------------------------------------------------------------------------|\n",
      "   1. |   101116                            EDMC       1391          1          4          5 |\n",
      "   2. |   242981                      EduK Group         10          0          0          2 |\n",
      "   3. |   373784            Education Affiliates         44          1          1          7 |\n",
      "   4. |   105215   Universal Technical Institute         33          1          0          0 |\n",
      "   5. |   151661                         Lincoln         34          1          2          0 |\n",
      "      |--------------------------------------------------------------------------------------|\n",
      "   6. |   104531                     DeVry, Inc.       1559          1          3          1 |\n",
      "   7. |   454944        Paul Mitchell franchises          4          0          0          1 |\n",
      "   8. |   212212          Empire Education Group          4          0          0          0 |\n",
      "   9. |   105534          Pima Medical Institute          6          0          0          0 |\n",
      "  10. |   120661        Concorde Career Colleges         33          0          0          0 |\n",
      "      +--------------------------------------------------------------------------------------+\n"
     ]
    }
   ],
   "source": [
    "replace legalaction=1 if legalaction!=0\n",
    "list systemid systemnm ownership pe totaldollarsremovingonlineo if _n<11\n",
    "list systemid systemnm borrowerdefense legalaction failgainful cashmonitor if _n<11"
   ]
  },
  {
   "cell_type": "code",
   "execution_count": 10,
   "metadata": {},
   "outputs": [],
   "source": [
    "quietly {\n",
    "replace failgainful=1 if failgainful!=0\n",
    "replace cashmonitor=1 if cashmonitor!=0\n",
    "gen anyborrowerdefense=1 if borrowerdefense!=0\n",
    "}\n"
   ]
  },
  {
   "cell_type": "code",
   "execution_count": 11,
   "metadata": {},
   "outputs": [
    {
     "name": "stdout",
     "output_type": "stream",
     "text": [
      "\n",
      "# of top 100 firms with predatory indicators:\n",
      "\n",
      "\n",
      "    variable |       sum\n",
      "-------------+----------\n",
      "          pe |        38\n",
      "      public |        12\n",
      " failgainful |        23\n",
      " cashmonitor |        13\n",
      "anyborrowe~e |        79\n",
      " legalaction |        12\n",
      "------------------------\n"
     ]
    }
   ],
   "source": [
    "display \"# of top 100 firms with predatory indicators:\"\n",
    "tabstat pe public failgainful cashmonitor anyborrowerdefense legalaction if _n<101, s(sum) columns(statistics) labelwidth(30)"
   ]
  },
  {
   "cell_type": "code",
   "execution_count": 12,
   "metadata": {},
   "outputs": [
    {
     "name": "stdout",
     "output_type": "stream",
     "text": [
      "\n",
      "Total initial 2017 borrower defense claims against Top 100 CARES subsidy recipients\n",
      "\n",
      "\n",
      "    variable |       sum\n",
      "-------------+----------\n",
      "borrowerde~e |     12074\n",
      "------------------------\n"
     ]
    }
   ],
   "source": [
    "display \"Total initial 2017 borrower defense claims against Top 100 CARES subsidy recipients\"\n",
    "tabstat borrowerdefense, s(sum)"
   ]
  },
  {
   "cell_type": "code",
   "execution_count": null,
   "metadata": {},
   "outputs": [],
   "source": []
  }
 ],
 "metadata": {
  "kernelspec": {
   "display_name": "Stata",
   "language": "stata",
   "name": "stata"
  },
  "language_info": {
   "codemirror_mode": "stata",
   "file_extension": ".do",
   "mimetype": "text/x-stata",
   "name": "stata",
   "version": "15.1"
  }
 },
 "nbformat": 4,
 "nbformat_minor": 4
}
