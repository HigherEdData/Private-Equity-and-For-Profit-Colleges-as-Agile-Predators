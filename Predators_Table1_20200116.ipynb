{
 "cells": [
  {
   "cell_type": "markdown",
   "metadata": {},
   "source": [
    "# For-profit college descriptives for Agile Predators"
   ]
  },
  {
   "cell_type": "markdown",
   "metadata": {},
   "source": [
    "## Import data and label"
   ]
  },
  {
   "cell_type": "code",
   "execution_count": 1,
   "metadata": {},
   "outputs": [],
   "source": [
    "clear all\n",
    "quietly insheet using \"https://raw.githubusercontent.com/charlieeatonphd/agilepredators/master/agilepredatorsdata20191116.csv\", comma clear\n",
    "\n",
    "quietly label define iclevel 1 \"Four or more years\" 2 \"At least 2 but less than 4 years\"\n",
    "quietly label define owner_pe 1 \"Private equity\" 2 \"Publicly traded\" 3 \"Privately held\" 4 \"Non-profit\" 5 \"State\" 6 \"Community\"\n",
    "quietly rename iclevel iclevel_s\n",
    "quietly encode iclevel_s, gen(iclevel) label(iclevel)\n",
    "quietly rename state_n state_s\n",
    "quietly encode state_s, gen(state_n)\n",
    "quietly rename owner_pe owner_pe_s\n",
    "quietly encode owner_pe_s, gen(owner_pe) label(owner_pe)\n",
    "\n",
    "quietly label var loan_amount_borrower_c_w \"Loan per borrower (2015$)\"\n",
    "quietly label var tuitionall_c_w \"Tuition (2015$)\"\n",
    "quietly label var grad_rate_150_p_w \"Graduation rate*\"\n",
    "quietly label var grad_rate_150_p2yr_w \"Graduation rate* (less than-4-year)\"\n",
    "quietly label var grad_rate_150_p4yr_w \"Graduation rate* (4-year)\"\n",
    "quietly label var selective \"Selective admissions\"\n",
    "quietly label var iclevel \"Highest degree offered**\"\n",
    "quietly label var online \"Online campus\"\n",
    "quietly label var chain \"Part of chain\"\n",
    "quietly label var all_under_w \"Undergrad enrollment\"\n",
    "quietly label var dist_black_share_w \"Share students Black\"\n",
    "quietly label var dist_white_share_w \"Share students Hispanic\"\n",
    "quietly label var dist_hisp_share_w \"Share students white\"\n",
    "quietly label var fed_grant_pct \"Share students with federal grants\"\n",
    "quietly label var dist_pell_s \"Pell grants per FTE undergrad (2015$)\""
   ]
  },
  {
   "cell_type": "markdown",
   "metadata": {},
   "source": [
    "## Estimate Means and SDs by ownership type"
   ]
  },
  {
   "cell_type": "code",
   "execution_count": 2,
   "metadata": {},
   "outputs": [
    {
     "name": "stdout",
     "output_type": "stream",
     "text": [
      "\n",
      "\n",
      "1 2 3 4 5 6\n",
      "\n"
     ]
    }
   ],
   "source": [
    "est clear\n",
    "levelsof owner_pe, loc(levs)\n",
    "qui foreach v of loc levs {\n",
    " estpost summ loan_amount_borrower_c_w tuitionall_c_w grad_rate_150_p_w grad_rate_150_p2yr_w grad_rate_150_p4yr_w selective iclevel online chain     ///\n",
    " all_under dist_black_share_w dist_white_share_w ///\n",
    " dist_hisp_share_w fed_grant_pct_w dist_pell_s fed_grant_pct if owner_pe==`v'\n",
    " est sto CY`v'\n",
    " }"
   ]
  },
  {
   "cell_type": "markdown",
   "metadata": {},
   "source": [
    "## Create table with %html magic"
   ]
  },
  {
   "cell_type": "code",
   "execution_count": 3,
   "metadata": {},
   "outputs": [
    {
     "data": {
      "text/html": [
       "\n",
       "<table border=\"0\" width=\"600\">\n",
       "<tr><td colspan=7><hr></td></tr>\n",
       "<tr><td>                    </td><td>Private equity</td><td>Publicly traded</td><td>Privately held</td><td>  Non-profit</td><td>       State</td><td>   Community</td></tr>\n",
       "<tr><td colspan=7><hr></td></tr>\n",
       "<tr><td>Loan per borrower (2015$)</td><td>       8,155</td><td>       8,410</td><td>       5,982</td><td>       6,189</td><td>       5,205</td><td>       3,991</td></tr>\n",
       "<tr><td>                    </td><td>     (2,806)</td><td>     (2,678)</td><td>     (2,844)</td><td>     (2,554)</td><td>     (1,731)</td><td>     (2,033)</td></tr>\n",
       "<tr><td>Tuition (2015$)     </td><td>      15,893</td><td>      15,897</td><td>      12,114</td><td>      15,493</td><td>       4,521</td><td>       2,710</td></tr>\n",
       "<tr><td>                    </td><td>     (5,860)</td><td>     (5,465)</td><td>     (5,470)</td><td>     (9,548)</td><td>     (2,552)</td><td>     (2,474)</td></tr>\n",
       "<tr><td>Graduation rate*    </td><td>         .49</td><td>          .4</td><td>         .61</td><td>         .55</td><td>         .45</td><td>         .28</td></tr>\n",
       "<tr><td>                    </td><td>       (.21)</td><td>       (.21)</td><td>       (.24)</td><td>       (.23)</td><td>       (.17)</td><td>        (.2)</td></tr>\n",
       "<tr><td>Graduation rate* (less than-4-year)</td><td>         .51</td><td>         .47</td><td>         .62</td><td>         .56</td><td>         .35</td><td>         .28</td></tr>\n",
       "<tr><td>                    </td><td>        (.2)</td><td>       (.19)</td><td>       (.22)</td><td>       (.29)</td><td>       (.22)</td><td>       (.19)</td></tr>\n",
       "<tr><td>Graduation rate* (4-year)</td><td>         .39</td><td>         .28</td><td>         .53</td><td>         .55</td><td>         .46</td><td>         .28</td></tr>\n",
       "<tr><td>                    </td><td>       (.24)</td><td>       (.21)</td><td>       (.26)</td><td>        (.2)</td><td>       (.17)</td><td>       (.14)</td></tr>\n",
       "<tr><td>Selective admissions</td><td>        .083</td><td>         .14</td><td>         .15</td><td>          .5</td><td>         .69</td><td>         .13</td></tr>\n",
       "<tr><td>                    </td><td>       (.28)</td><td>       (.35)</td><td>       (.36)</td><td>        (.5)</td><td>       (.46)</td><td>       (.34)</td></tr>\n",
       "<tr><td>Highest degree offered**</td><td>         2.1</td><td>         1.7</td><td>         2.5</td><td>         1.2</td><td>           1</td><td>         2.2</td></tr>\n",
       "<tr><td>                    </td><td>       (.75)</td><td>       (.77)</td><td>       (.66)</td><td>       (.53)</td><td>         (0)</td><td>       (.36)</td></tr>\n",
       "<tr><td>Online campus       </td><td>        .025</td><td>        .028</td><td>        .012</td><td>           0</td><td>           0</td><td>           0</td></tr>\n",
       "<tr><td>                    </td><td>       (.16)</td><td>       (.17)</td><td>       (.11)</td><td>         (0)</td><td>         (0)</td><td>         (0)</td></tr>\n",
       "<tr><td>Part of chain       </td><td>         .93</td><td>         .99</td><td>         .17</td><td>           0</td><td>           0</td><td>           0</td></tr>\n",
       "<tr><td>                    </td><td>       (.26)</td><td>       (.12)</td><td>       (.38)</td><td>         (0)</td><td>         (0)</td><td>         (0)</td></tr>\n",
       "<tr><td>Undergrad enrollment</td><td>         594</td><td>         970</td><td>         228</td><td>       1,318</td><td>       8,040</td><td>       4,222</td></tr>\n",
       "<tr><td>                    </td><td>     (1,189)</td><td>     (2,336)</td><td>       (590)</td><td>     (2,125)</td><td>     (6,813)</td><td>     (5,254)</td></tr>\n",
       "<tr><td>Share students Black</td><td>         .27</td><td>         .22</td><td>          .2</td><td>         .12</td><td>         .14</td><td>         .14</td></tr>\n",
       "<tr><td>                    </td><td>       (.24)</td><td>       (.22)</td><td>       (.25)</td><td>        (.2)</td><td>       (.22)</td><td>       (.17)</td></tr>\n",
       "<tr><td>Share students Hispanic</td><td>         .41</td><td>         .39</td><td>         .54</td><td>         .67</td><td>         .65</td><td>         .67</td></tr>\n",
       "<tr><td>                    </td><td>       (.28)</td><td>       (.28)</td><td>       (.33)</td><td>       (.31)</td><td>       (.29)</td><td>       (.27)</td></tr>\n",
       "<tr><td>Share students white</td><td>         .16</td><td>         .15</td><td>         .16</td><td>        .089</td><td>        .096</td><td>         .09</td></tr>\n",
       "<tr><td>                    </td><td>       (.21)</td><td>       (.18)</td><td>       (.26)</td><td>       (.19)</td><td>       (.18)</td><td>       (.16)</td></tr>\n",
       "<tr><td>Share students with federal grants</td><td>         .72</td><td>         .65</td><td>         .67</td><td>         .41</td><td>         .38</td><td>          .5</td></tr>\n",
       "<tr><td>                    </td><td>        (.2)</td><td>       (.22)</td><td>       (.24)</td><td>       (.25)</td><td>       (.19)</td><td>       (.21)</td></tr>\n",
       "<tr><td>Pell grants per FTE undergrad (2015$)</td><td>       6,220</td><td>       3,976</td><td>       4,335</td><td>       1,427</td><td>       1,137</td><td>       1,667</td></tr>\n",
       "<tr><td>                    </td><td>     (5,269)</td><td>     (2,961)</td><td>     (3,603)</td><td>     (2,382)</td><td>       (856)</td><td>     (1,269)</td></tr>\n",
       "<tr><td>Share students with federal grants</td><td>         .72</td><td>         .65</td><td>         .67</td><td>         .41</td><td>         .38</td><td>          .5</td></tr>\n",
       "<tr><td>                    </td><td>        (.2)</td><td>       (.22)</td><td>       (.24)</td><td>       (.25)</td><td>       (.19)</td><td>       (.21)</td></tr>\n",
       "<tr><td colspan=7><hr></td></tr>\n",
       "</table>\n",
       "\n"
      ],
      "text/plain": [
       "This front-end or document format cannot display HTML"
      ]
     },
     "metadata": {},
     "output_type": "display_data"
    }
   ],
   "source": [
    "%html\n",
    "\n",
    "esttab * , label ///\n",
    "cell(mean (fmt(%9.2gc)) sd(par fmt(%9.2gc))) mti width(600) mlabels(\"Private equity\" \"Publicly traded\" ///\n",
    "\"Privately held\" \"Non-profit\" \"State\" \"Community\") collabels(none) nonum noobs html replace"
   ]
  }
 ],
 "metadata": {
  "kernelspec": {
   "display_name": "Stata",
   "language": "stata",
   "name": "stata"
  },
  "language_info": {
   "codemirror_mode": "stata",
   "file_extension": ".do",
   "mimetype": "text/x-stata",
   "name": "stata",
   "version": "15.1"
  }
 },
 "nbformat": 4,
 "nbformat_minor": 2
}
